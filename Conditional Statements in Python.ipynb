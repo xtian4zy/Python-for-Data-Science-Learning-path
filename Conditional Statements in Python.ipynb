{
 "cells": [
  {
   "cell_type": "markdown",
   "metadata": {},
   "source": [
    "# CONDITIONAL STATEMENTS"
   ]
  },
  {
   "cell_type": "markdown",
   "metadata": {},
   "source": [
    "###### Conditional statements otherwise called control structures check for stated conditions or expressions and change the behavior of the program. "
   ]
  },
  {
   "cell_type": "markdown",
   "metadata": {},
   "source": [
    "#### If Statement"
   ]
  },
  {
   "cell_type": "code",
   "execution_count": 2,
   "metadata": {},
   "outputs": [
    {
     "name": "stdout",
     "output_type": "stream",
     "text": [
      "x is greater\n"
     ]
    }
   ],
   "source": [
    "x = 6\n",
    "y = 4\n",
    "if x > y:\n",
    "    print('x is greater') #Take note here that there is an indentation when writing the statement."
   ]
  },
  {
   "cell_type": "markdown",
   "metadata": {},
   "source": [
    "###### Elif Statement: \n",
    "Sometimes there are more than two possibilities, in that case we can use the elif statement \n",
    "It stands for \"else if,\" which means that if the original if statement is false and the elif statement is true, execute the block of code following the elif statement."
   ]
  },
  {
   "cell_type": "code",
   "execution_count": 3,
   "metadata": {},
   "outputs": [
    {
     "name": "stdout",
     "output_type": "stream",
     "text": [
      "x is greater than y\n"
     ]
    }
   ],
   "source": [
    "x = 6\n",
    "y = 4\n",
    "if x > y:\n",
    "    print ('x is greater than y')\n",
    "else:\n",
    "    print ('y is greater than x')\n",
    "    \n",
    "#In this example of if else statement the first statement will be printed because x is greater than y"
   ]
  },
  {
   "cell_type": "code",
   "execution_count": 4,
   "metadata": {},
   "outputs": [
    {
     "name": "stdout",
     "output_type": "stream",
     "text": [
      "y is greater than x\n"
     ]
    }
   ],
   "source": [
    "x = 6\n",
    "y = 4\n",
    "if x < y:\n",
    "    print ('x is greater than y')\n",
    "else:\n",
    "    print ('y is greater than x')\n",
    "    \n",
    "#In this example of if else statement the second statement will be printed because x is lesser than y"
   ]
  },
  {
   "cell_type": "markdown",
   "metadata": {},
   "source": [
    "###### You can have several statement under the condtions as shown below"
   ]
  },
  {
   "cell_type": "code",
   "execution_count": 5,
   "metadata": {},
   "outputs": [
    {
     "name": "stdout",
     "output_type": "stream",
     "text": [
      "(I am already 60)\n",
      "I am an old folk\n"
     ]
    }
   ],
   "source": [
    "x = 60\n",
    "\n",
    "if x < 50:\n",
    "    print('(I am below 60)')\n",
    "    print('I am not old yet')\n",
    "else:\n",
    "    print('(I am already 60)')\n",
    "    print('I am an old folk')\n",
    "\n"
   ]
  },
  {
   "cell_type": "markdown",
   "metadata": {},
   "source": [
    "###### Elif Statement\n",
    "Sometimes there are more than two possibilities, in that case we can use the elif statement. It stands for \"else if,\" which means that if the original if statement is false and the elif statement is true, execute the block of code following the elif statement. "
   ]
  },
  {
   "cell_type": "code",
   "execution_count": 7,
   "metadata": {},
   "outputs": [
    {
     "name": "stdout",
     "output_type": "stream",
     "text": [
      "I am a Beginner player\n"
     ]
    }
   ],
   "source": [
    "level = 'Beginner'\n",
    "if level == 'Rookie':\n",
    "     print('I am a Rookie player')\n",
    "elif level == 'Beginner':\n",
    "    print('I am a Beginner player')\n",
    "elif level == 'Middle':\n",
    "    print('I am a Middle level player')\n",
    "elif level == 'Expert':\n",
    "     print('I am an Expert level player')\n",
    "else:\n",
    "     print(\"I don't know your level!\")"
   ]
  },
  {
   "cell_type": "markdown",
   "metadata": {},
   "source": [
    "###### NOTE\n",
    "At most, one of the code blocks specified will be executed. If an else clause isn’t included, and all the conditions are false, then none of the blocks will be executed."
   ]
  },
  {
   "cell_type": "code",
   "execution_count": 9,
   "metadata": {},
   "outputs": [
    {
     "name": "stdout",
     "output_type": "stream",
     "text": [
      "Hello Joe\n",
      "I don't know who you are!\n"
     ]
    }
   ],
   "source": [
    "names = {\n",
    "  'Fred': 'Hello Fred',\n",
    "    'Xander': 'Hello Xander',\n",
    "    'Joe': 'Hello Joe',\n",
    "    'Arnold': 'Hello Arnold'\n",
    "}\n",
    "\n",
    "print(names.get('Joe', \"I don't know who you are!\"))\n",
    "\n",
    "print(names.get('Rick', \"I don't know who you are!\"))\n"
   ]
  },
  {
   "cell_type": "markdown",
   "metadata": {},
   "source": [
    "###### NOTE\n",
    "An if statement with elif clauses uses short-circuit evaluation, unlike the and and or operators. Once one of the expressions is found to be true and its block is executed, none of the remaining expressions are tested. See the example below:"
   ]
  },
  {
   "cell_type": "code",
   "execution_count": 10,
   "metadata": {},
   "outputs": [
    {
     "name": "stdout",
     "output_type": "stream",
     "text": [
      "I am learning Python\n"
     ]
    }
   ],
   "source": [
    "if 'a' in 'Learning':\n",
    "     print('I am learning Python')\n",
    "elif 1/0:\n",
    "     print(\"This won't happen\")\n",
    "elif var:\n",
    "     print(\"This won't either\")\n",
    "#The second expression contains a division by zero, and the third references an undefined variable var. \n",
    "#Either would raise an error, but neither is evaluated because the first condition specified is true."
   ]
  },
  {
   "cell_type": "markdown",
   "metadata": {},
   "source": [
    "###### One-Line if Statements\n",
    "While it is customary to write if <condition> on one line and <statement> indented on the following line,\n",
    "it is permissible to write an entire if statement on one line with each statement separated by a semi colon (;)"
   ]
  },
  {
   "cell_type": "code",
   "execution_count": 11,
   "metadata": {},
   "outputs": [
    {
     "name": "stdout",
     "output_type": "stream",
     "text": [
      "You are learning Pyhton\n",
      "Do you love it?\n",
      "How far have you learnt?\n"
     ]
    }
   ],
   "source": [
    "if 'P' in 'Pyhton': print('You are learning Pyhton'); print('Do you love it?'); print('How far have you learnt?')"
   ]
  },
  {
   "cell_type": "code",
   "execution_count": 13,
   "metadata": {},
   "outputs": [],
   "source": [
    "if 'c' in 'Pyhton': print('You are learning Pyhton'); print('Do you love it?'); print('How far have you learnt?')\n",
    "#Nothing gets printed out cos the if statement does not hold."
   ]
  },
  {
   "cell_type": "markdown",
   "metadata": {},
   "source": [
    "###### NOTE\n",
    "Multiple statements may be specified on the same line as an elif or else clause as well. "
   ]
  },
  {
   "cell_type": "code",
   "execution_count": 14,
   "metadata": {},
   "outputs": [
    {
     "name": "stdout",
     "output_type": "stream",
     "text": [
      "Positive\n",
      "Needs Drugs\n",
      "Avoid smoking\n"
     ]
    }
   ],
   "source": [
    "x = 1\n",
    "if x == 1: print('Positive'); print('Needs Drugs'); print('Avoid smoking')\n",
    "elif x == 0: print('Negative'); print('Continue a healthy lifestyle')\n",
    "else: print('Test result inconclusive'); print('Further examination required')"
   ]
  },
  {
   "cell_type": "markdown",
   "metadata": {},
   "source": [
    "###### \n",
    "While the above technique works, and the interpreter allows it, it is generally discouraged on the grounds that it leads to poor readability, particularly for complex if statements. The PEP 8 specifically recommends against it."
   ]
  },
  {
   "cell_type": "code",
   "execution_count": 15,
   "metadata": {},
   "outputs": [
    {
     "name": "stdout",
     "output_type": "stream",
     "text": [
      "Positive\n",
      "Needs Drugs\n",
      "Avoid smoking\n"
     ]
    }
   ],
   "source": [
    "x = 1\n",
    "if x == 1:\n",
    "    print('Positive')\n",
    "    print('Needs Drugs')\n",
    "    print('Avoid smoking')\n",
    "elif x == 2:\n",
    "    print('Negative')\n",
    "    print('Continue a healthy lifestyle')\n",
    "else:\n",
    "    print('Test result inconclusive')\n",
    "    print('Further examination required')"
   ]
  },
  {
   "cell_type": "markdown",
   "metadata": {},
   "source": [
    "###### Python’s Ternary Operator\n",
    "This is different from the if statement forms listed above because it is not a control structure that directs the flow of program execution. It acts more like an operator that defines an expression.\n",
    "<expr1> if <conditional_expr> else <expr2>\n",
    "In example above, <conditional_expr> is evaluated first. If it is true, the expression evaluates to <expr1>. If it is false, the expression evaluates to <expr2>."
   ]
  },
  {
   "cell_type": "code",
   "execution_count": 16,
   "metadata": {},
   "outputs": [
    {
     "name": "stdout",
     "output_type": "stream",
     "text": [
      "Is it time for shopping? not time for shopping, as fridge is stocked\n",
      "Is it time for shopping? Yes, fridge is empty.\n"
     ]
    }
   ],
   "source": [
    "stocked = False\n",
    "print(\"Is it time for shopping?\", 'not time for shopping, as fridge is stocked' if not stocked else 'Yes, fridge is empty.')\n",
    "stocked = True\n",
    "print(\"Is it time for shopping?\", 'not time for shopping, as fridge is stocked' if not stocked else 'Yes, fridge is empty.')"
   ]
  },
  {
   "cell_type": "markdown",
   "metadata": {},
   "source": [
    "###### \n",
    "The python ternary operator can help reduce the amount of code you write for some basic operations and also help improve readability. See the 2 code blocks below for an implementation of finding the greatest of two numbers"
   ]
  },
  {
   "cell_type": "code",
   "execution_count": 17,
   "metadata": {},
   "outputs": [],
   "source": [
    "#Normal if statement to find the larger of two (2) numbers\n",
    "if x > y:\n",
    "     m = x\n",
    "else:\n",
    "    m = y"
   ]
  },
  {
   "cell_type": "code",
   "execution_count": 18,
   "metadata": {},
   "outputs": [],
   "source": [
    "#Using a conditional expression ( ternary operator) to find the larger of two (2) numbers\n",
    "m = x if x > y else y"
   ]
  },
  {
   "cell_type": "markdown",
   "metadata": {},
   "source": [
    "### Sample Project 1\n",
    "Using conditional statement write a python program to compare two (2) strings based on user input"
   ]
  },
  {
   "cell_type": "code",
   "execution_count": 23,
   "metadata": {},
   "outputs": [
    {
     "name": "stdout",
     "output_type": "stream",
     "text": [
      "Enter the your string: python\n",
      "Correct String entered\n"
     ]
    }
   ],
   "source": [
    "# Program that compares two strings base on what a user inputs.\n",
    "# Get a string from the user.\n",
    "user_input = input('Enter the your string: ')\n",
    "# Determine whether the given string matches what is stored\n",
    "if user_input == 'python':\n",
    "    print('Correct String entered')\n",
    "else:\n",
    "    print('Sorry, you have entered the wrong string, try again.')"
   ]
  },
  {
   "cell_type": "markdown",
   "metadata": {},
   "source": [
    "### Sample Project 2\n",
    "Build a medical test kit for diagnosing whether a patient has malaria or not based on the temperature reading of the patient.\n",
    "If the user temperature is equal or below 37.5 the program should print 'Negative'. If the temperature is above 37.5 the program should print 'Positive, go for check up' and finally print 'Your result is not clear when a user enters any figure outside the defined range such as -2, -10 \n"
   ]
  },
  {
   "cell_type": "code",
   "execution_count": 40,
   "metadata": {},
   "outputs": [
    {
     "name": "stdout",
     "output_type": "stream",
     "text": [
      "Enter your body temperature: 40\n",
      "Positive, go for check up\n"
     ]
    }
   ],
   "source": [
    "#Enter patient temperature\n",
    "userTemp = int(input('Enter your body temperature: ')) #The int here is called type casting\n",
    "# Determine whether the given string matches what is stored\n",
    "if userTemp == 0 or userTemp == 37.5:\n",
    "    print('Negative')\n",
    "    \n",
    "elif userTemp > 37.5:\n",
    "    print('Positive, go for check up')\n",
    "    \n",
    "else:\n",
    "    print('You result is not clear')\n",
    " "
   ]
  }
 ],
 "metadata": {
  "kernelspec": {
   "display_name": "Python 3",
   "language": "python",
   "name": "python3"
  },
  "language_info": {
   "codemirror_mode": {
    "name": "ipython",
    "version": 3
   },
   "file_extension": ".py",
   "mimetype": "text/x-python",
   "name": "python",
   "nbconvert_exporter": "python",
   "pygments_lexer": "ipython3",
   "version": "3.7.0"
  }
 },
 "nbformat": 4,
 "nbformat_minor": 2
}
